{
  "nbformat": 4,
  "nbformat_minor": 0,
  "metadata": {
    "colab": {
      "provenance": []
    },
    "kernelspec": {
      "name": "python3",
      "display_name": "Python 3"
    },
    "language_info": {
      "name": "python"
    }
  },
  "cells": [
    {
      "cell_type": "markdown",
      "source": [
        "#OOPS Assignment"
      ],
      "metadata": {
        "id": "EO2-4CI2GUeX"
      }
    },
    {
      "cell_type": "markdown",
      "source": [
        "#Theoritical Questions"
      ],
      "metadata": {
        "id": "o6-qOdM3GYy9"
      }
    },
    {
      "cell_type": "markdown",
      "source": [
        "1. What is Object-Oriented Programming (OOP)?\n",
        "\n",
        "-> Object-Oriented Programming (OOP) is a programming paradigm based on the concept of \"objects\", which can contain data (attributes or properties) and code (methods or functions). OOP helps organize software design around data, or objects, rather than functions and logic.\n",
        "\n"
      ],
      "metadata": {
        "id": "at9WVdtfGcE8"
      }
    },
    {
      "cell_type": "markdown",
      "source": [
        "2. What is a class in OOP?\n",
        "\n",
        "->In Object-Oriented Programming (OOP), a class is a blueprint or template for creating objects. A class defines the attributes (also called fields or properties) and methods (functions) that the objects created from the class will have."
      ],
      "metadata": {
        "id": "HVAYS9w8Gxt2"
      }
    },
    {
      "cell_type": "markdown",
      "source": [
        "3. What is an object in OOP?\n",
        "\n",
        "-> In Object-Oriented Programming (OOP), an object is a real-world instance of a class — it contains both data (attributes) and behaviors (methods) defined by the class.\n",
        "\n"
      ],
      "metadata": {
        "id": "mwIMcrVLIIwE"
      }
    },
    {
      "cell_type": "markdown",
      "source": [
        "4. What is the difference between abstraction and encapsulation?\n",
        "\n",
        "->  **Abstraction** — \"Hiding the what and showing only the essential details\"\n",
        "\n",
        "Purpose: To hide complex implementation and show only necessary features to the user.\n",
        "\n",
        "Focus: On what an object does, not how it does it.\n",
        "\n",
        " **Encapsulation** — \"Hiding the how and protecting internal data from direct access\"\n",
        "Purpose: To restrict access to internal data and protect object integrity.\n",
        "\n",
        "Focus: On how data is protected and kept safe from unintended modification."
      ],
      "metadata": {
        "id": "UW6lXXuyIU-0"
      }
    },
    {
      "cell_type": "markdown",
      "source": [
        "5. What are dunder methods in Python?\n",
        "\n",
        "->In Python, dunder methods (short for “double underscore” methods) are special methods with names that begin and end with double underscores — like __init__, __str__, __len__, etc.\n",
        "\n",
        "They are also known as:\n",
        "\n",
        "Magic methods\n",
        "\n",
        "Special methods\n",
        "\n",
        "These methods allow you to define custom behaviors for your objects and interact with built-in Python operations (like printing, adding, comparing, etc.)."
      ],
      "metadata": {
        "id": "u25kGnvRJAqb"
      }
    },
    {
      "cell_type": "markdown",
      "source": [
        "6. Explain the concept of inheritance in OOP.\n",
        "\n",
        "-> Inheritance is a fundamental OOP concept where one class (called the child or subclass) inherits the properties and behaviors (methods and attributes) of another class (called the parent or superclass)."
      ],
      "metadata": {
        "id": "ujPpx8IoJf0b"
      }
    },
    {
      "cell_type": "markdown",
      "source": [
        "7. What is polymorphism in OOP?\n",
        "\n",
        "->Polymorphism means “many forms.”\n",
        "In OOP, it allows objects of different classes to be treated as if they are of the same class, particularly when they share a common interface (like a method name).\n",
        "\n"
      ],
      "metadata": {
        "id": "Bg5agFrnJroU"
      }
    },
    {
      "cell_type": "markdown",
      "source": [
        "8. How is encapsulation achieved in Python?\n",
        "\n",
        "-> Encapsulation is the OOP principle of hiding internal data and exposing only what’s necessary through controlled interfaces (like methods). It helps protect the internal state of an object from unwanted or accidental changes.\n",
        "\n",
        "Encapsulation in Python is achieved using:\n",
        "\n",
        "i.Access Modifiers (naming conventions)\n",
        "\n",
        "ii.Getter and Setter methods\n",
        "\n",
        "iii.Private variables (name mangling)"
      ],
      "metadata": {
        "id": "uN-9tYddJ_aM"
      }
    },
    {
      "cell_type": "markdown",
      "source": [
        "9.What is a constructor in Python?\n",
        "\n",
        "->In Python, a constructor is a special method that is automatically called when a new object is created from a class. Its main purpose is to initialize the object’s attributes with default or user-provided values."
      ],
      "metadata": {
        "id": "Vk1accbiLMj9"
      }
    },
    {
      "cell_type": "markdown",
      "source": [
        "10. What are class and static methods in Python?\n",
        "\n",
        "-> **A class method**:\n",
        "\n",
        "Takes cls as the first parameter (refers to the class, not the object).\n",
        "\n",
        "Can access or modify class-level attributes.\n",
        "\n",
        "Can be called on the class or an instance.\n",
        "\n",
        "**A static method:**\n",
        "\n",
        "Takes no self or cls argument.\n",
        "\n",
        "Does not access instance or class data.\n",
        "\n",
        "Behaves like a regular function, but is placed inside a class for logical grouping."
      ],
      "metadata": {
        "id": "vc-ygECjLYPU"
      }
    },
    {
      "cell_type": "markdown",
      "source": [
        "11. What is method overloading in Python?\n",
        "\n",
        "-> Method Overloading means defining multiple methods with the same name but different parameters (number or type), so the correct version is chosen based on how it's called.\n",
        "\n"
      ],
      "metadata": {
        "id": "fQV8OkVOL9jC"
      }
    },
    {
      "cell_type": "markdown",
      "source": [
        "12. What is method overriding in OOP?\n",
        "\n",
        "-> Method overriding is an important concept in Object-Oriented Programming (OOP) that allows a subclass (child class) to provide a specific implementation of a method that is already defined in its superclass (parent class)."
      ],
      "metadata": {
        "id": "DAkrHZ_uZWgi"
      }
    },
    {
      "cell_type": "markdown",
      "source": [
        "13. What is a property decorator in Python?\n",
        "\n",
        "-> In Python, the @property decorator is used to define a method as a property — allowing us to access it like an attribute, without using parentheses.\n",
        "The @property decorator turns a method into a read-only attribute (getter).\n",
        "\n"
      ],
      "metadata": {
        "id": "sfsakVkFb1KR"
      }
    },
    {
      "cell_type": "markdown",
      "source": [
        "14.Why is polymorphism important in OOP?\n",
        "\n",
        "->Polymorphism is a core concept in Object-Oriented Programming (OOP) that allows objects of different classes to be treated as objects of a common superclass. It's important because it provides flexibility, reusability, and scalability in code design.\n",
        "\n"
      ],
      "metadata": {
        "id": "zSvKnzr5c8BQ"
      }
    },
    {
      "cell_type": "markdown",
      "source": [
        "15.What is an abstract class in Python?\n",
        "\n",
        "-> In Python, an abstract class is a class that cannot be instantiated directly and is designed to be inherited by other classes. It is used to define a common interface for a group of related classes, ensuring that certain methods are implemented in subclasses."
      ],
      "metadata": {
        "id": "uLrEqgJhdKhp"
      }
    },
    {
      "cell_type": "markdown",
      "source": [
        "16.  What are the advantages of OOP?\n",
        "\n",
        "->Main Advantages of OOP\n",
        "\n",
        "i. **Modularity (Encapsulation)**\n",
        "Code is organized into classes and objects, making it easier to manage.\n",
        "\n",
        "Internal implementation details of an object are hidden from the outside (encapsulation).\n",
        "\n",
        "ii. **Reusability (Inheritance)**\n",
        "You can reuse existing code through inheritance by creating new classes from existing ones.\n",
        "\n",
        "Promotes code reuse and reduces redundancy.\n",
        "\n",
        "iii. **Polymorphism**\n",
        "Objects of different classes can be treated through a common interface, simplifying code and making it more flexible."
      ],
      "metadata": {
        "id": "DVTUQCAqdYMS"
      }
    },
    {
      "cell_type": "markdown",
      "source": [
        "17. What is the difference between a class variable and an instance variable?\n",
        "\n",
        "-> The difference between a class variable and an instance variable in Python (and other OOP languages) lies in how they are shared and accessed by objects of a class."
      ],
      "metadata": {
        "id": "dY2HyOwDfNfg"
      }
    },
    {
      "cell_type": "markdown",
      "source": [
        "18. What is multiple inheritance in Python?\n",
        "\n",
        "-> Multiple inheritance is a feature in Python where a class can inherit from more than one parent class. This allows the child class to access attributes and methods from all parent classes."
      ],
      "metadata": {
        "id": "nl37po2TgL-n"
      }
    },
    {
      "cell_type": "markdown",
      "source": [
        "19. Explain the purpose of ‘’__str__’ and ‘__repr__’ ‘ methods in Python.\n",
        "\n",
        "-> In Python, __str__ and __repr__ are dunder methods (short for \"double underscore methods\") used to define string representations of objects. While both deal with converting objects to strings, they serve different purposes."
      ],
      "metadata": {
        "id": "hDf7zLtohBmI"
      }
    },
    {
      "cell_type": "markdown",
      "source": [
        "20. What is the significance of the ‘super()’ function in Python?\n",
        "\n",
        "->The super() function in Python is used to call methods from a parent (superclass) inside a child class, especially when using inheritance. It helps in accessing the methods or constructors of a base class without referring to it by name."
      ],
      "metadata": {
        "id": "wU7bRiBGiP_f"
      }
    },
    {
      "cell_type": "markdown",
      "source": [
        "21.  What is the significance of the __del__ method in Python?\n",
        "\n",
        "->The __del__ method in Python is a special method called a destructor. It is automatically invoked when an object is about to be destroyed (i.e., when it is garbage collected).\n",
        "Used to define cleanup actions that must be performed when an object is deleted.\n",
        "\n",
        "Typically used to:\n",
        "\n",
        "Close files\n",
        "\n",
        "Release network or database connections\n",
        "\n",
        "Free other external resources"
      ],
      "metadata": {
        "id": "oC_jT_NRiajn"
      }
    },
    {
      "cell_type": "markdown",
      "source": [
        "22. What is the difference between @staticmethod and @classmethod in Python?\n",
        "\n",
        "-> In Python, both @staticmethod and @classmethod are used to define methods that aren't regular instance methods, but they serve different purposes and behave differently.\n",
        "\n"
      ],
      "metadata": {
        "id": "_CycsN89jRmu"
      }
    },
    {
      "cell_type": "markdown",
      "source": [
        "23. How does polymorphism work in Python with inheritance?\n",
        "\n",
        "-> Polymorphism in Python allows different classes to be treated through a common interface, typically using inheritance. This means that subclasses can override methods of a parent class, and Python will dynamically determine which method to call at runtime based on the object's actual type — even when accessed through a reference to the parent class."
      ],
      "metadata": {
        "id": "BASEHLS-kULn"
      }
    },
    {
      "cell_type": "markdown",
      "source": [
        "24. What is method chaining in Python OOP?\n",
        "\n",
        "-> Method chaining is a programming technique where multiple method calls are linked together in a single line, with each method returning the object itself (or another object), allowing for a fluent, readable interface. In object-oriented Python, method chaining typically works by having each method return self, so that the next method can be called on the same object."
      ],
      "metadata": {
        "id": "tEjyyucmkedu"
      }
    },
    {
      "cell_type": "markdown",
      "source": [
        "25.  What is the purpose of the __call__ method in Python?\n",
        "\n",
        "-> The __call__ method in Python is a special (dunder) method that allows an instance of a class to be called like a function. If you define __call__ in a class, you can then \"call\" an object of that class using parentheses (), just like a regular function."
      ],
      "metadata": {
        "id": "-ghP1BwNktMW"
      }
    },
    {
      "cell_type": "markdown",
      "source": [
        "# Practical Questions"
      ],
      "metadata": {
        "id": "KTxmzVNqlM_O"
      }
    },
    {
      "cell_type": "markdown",
      "source": [
        "1. Create a parent class Animal with a method speak() that prints a generic message. Create a child class Dog\n",
        "that overrides the speak() method to print \"Bark!\"."
      ],
      "metadata": {
        "id": "CxKVmp7OnTnW"
      }
    },
    {
      "cell_type": "code",
      "source": [
        "# Parent class\n",
        "class Animal:\n",
        "    def speak(self):\n",
        "        print(\"Animal makes a sound\")\n",
        "\n",
        "# Child class\n",
        "class Dog(Animal):\n",
        "    def speak(self):\n",
        "        print(\"Bark!\")\n",
        "\n",
        "a = Animal()\n",
        "a.speak()\n",
        "\n",
        "d = Dog()\n",
        "d.speak()"
      ],
      "metadata": {
        "colab": {
          "base_uri": "https://localhost:8080/"
        },
        "id": "et7ryAC7nnRW",
        "outputId": "512a95a9-d39e-4fc9-a04a-87c8920af690"
      },
      "execution_count": 3,
      "outputs": [
        {
          "output_type": "stream",
          "name": "stdout",
          "text": [
            "Animal makes a sound\n",
            "Bark!\n"
          ]
        }
      ]
    },
    {
      "cell_type": "markdown",
      "source": [
        "2.Write a program to create an abstract class Shape with a method area(). Derive classes Circle and Rectangle\n",
        "from it and implement the area() method in both."
      ],
      "metadata": {
        "id": "Qw_Cqk5coACf"
      }
    },
    {
      "cell_type": "code",
      "source": [
        "from abc import ABC, abstractmethod\n",
        "import math\n",
        "\n",
        "# Abstract base class\n",
        "class Shape(ABC):\n",
        "\n",
        "    @abstractmethod\n",
        "    def area(self):\n",
        "        pass\n",
        "\n",
        "# Derived class: Circle\n",
        "class Circle(Shape):\n",
        "    def __init__(self, radius):\n",
        "        self.radius = radius\n",
        "\n",
        "    def area(self):\n",
        "        return math.pi * self.radius ** 2\n",
        "\n",
        "# Derived class: Rectangle\n",
        "class Rectangle(Shape):\n",
        "    def __init__(self, width, height):\n",
        "        self.width = width\n",
        "        self.height = height\n",
        "\n",
        "    def area(self):\n",
        "        return self.width * self.height\n",
        "\n",
        "# Example usage\n",
        "circle = Circle(5)\n",
        "rectangle = Rectangle(4, 6)\n",
        "\n",
        "print(f\"Area of circle: {circle.area():.2f}\")\n",
        "print(f\"Area of rectangle: {rectangle.area()}\")\n"
      ],
      "metadata": {
        "colab": {
          "base_uri": "https://localhost:8080/"
        },
        "id": "IzqOKgDYobl2",
        "outputId": "3d1fc21f-5cdd-4d3d-e8bd-3dba93d6a712"
      },
      "execution_count": 4,
      "outputs": [
        {
          "output_type": "stream",
          "name": "stdout",
          "text": [
            "Area of circle: 78.54\n",
            "Area of rectangle: 24\n"
          ]
        }
      ]
    },
    {
      "cell_type": "markdown",
      "source": [
        "3. Implement a multi-level inheritance scenario where a class Vehicle has an attribute type. Derive a class Car\n",
        "and further derive a class ElectricCar that adds a battery attribute."
      ],
      "metadata": {
        "id": "mexpDd24o71l"
      }
    },
    {
      "cell_type": "code",
      "source": [
        "# Base class\n",
        "class Vehicle:\n",
        "    def __init__(self, vehicle_type):\n",
        "        self.type = vehicle_type\n",
        "\n",
        "    def show_type(self):\n",
        "        print(f\"Vehicle Type: {self.type}\")\n",
        "\n",
        "# Derived class from Vehicle\n",
        "class Car(Vehicle):\n",
        "    def __init__(self, vehicle_type, brand):\n",
        "        super().__init__(vehicle_type)\n",
        "        self.brand = brand\n",
        "\n",
        "    def show_brand(self):\n",
        "        print(f\"Car Brand: {self.brand}\")\n",
        "\n",
        "# Further derived class from Car\n",
        "class ElectricCar(Car):\n",
        "    def __init__(self, vehicle_type, brand, battery):\n",
        "        super().__init__(vehicle_type, brand)\n",
        "        self.battery = battery\n",
        "\n",
        "    def show_battery(self):\n",
        "        print(f\"Battery Capacity: {self.battery} kWh\")\n",
        "\n",
        "# Example usage\n",
        "e_car = ElectricCar(\"Four Wheeler\", \"Tesla\", 75)\n",
        "\n",
        "e_car.show_type()\n",
        "e_car.show_brand()\n",
        "e_car.show_battery()"
      ],
      "metadata": {
        "colab": {
          "base_uri": "https://localhost:8080/"
        },
        "id": "GHTP2MrUnShF",
        "outputId": "5b462d70-aba1-436e-e3b9-e0933fde49e7"
      },
      "execution_count": 5,
      "outputs": [
        {
          "output_type": "stream",
          "name": "stdout",
          "text": [
            "Vehicle Type: Four Wheeler\n",
            "Car Brand: Tesla\n",
            "Battery Capacity: 75 kWh\n"
          ]
        }
      ]
    },
    {
      "cell_type": "code",
      "execution_count": null,
      "metadata": {
        "id": "ST-V5YYBGJTQ"
      },
      "outputs": [],
      "source": []
    }
  ]
}